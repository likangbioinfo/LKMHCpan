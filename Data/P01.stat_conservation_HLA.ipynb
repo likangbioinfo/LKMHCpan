{
 "cells": [
  {
   "cell_type": "code",
   "execution_count": 3,
   "metadata": {},
   "outputs": [],
   "source": [
    "from Bio import AlignIO\n",
    "from Bio.Align import AlignInfo\n"
   ]
  },
  {
   "cell_type": "code",
   "execution_count": 20,
   "metadata": {},
   "outputs": [],
   "source": [
    "#保守性得分是一个字符串，表示在比对中每个位置上最常见的残基。\n",
    "def stat_conservation(filename):\n",
    "    # 读取序列比对文件（例如FASTA格式）\n",
    "    list_pos=[]\n",
    "    #alignment = AlignIO.read(\"/life/Project/liqing/02.Work/01.LNEA.toolkit/01.MHCImodel/23.model.RoBerta.20230312/HLAseq_Allele/00.database/HLA-A.aligned.fasta\", \"fasta\")\n",
    "    alignment = AlignIO.read(filename, \"fasta\")\n",
    "    # 创建保守性分析对象\n",
    "    summary_align = AlignInfo.SummaryInfo(alignment)\n",
    "\n",
    "    # 计算保守性得分\n",
    "    conservation_scores = summary_align.gap_consensus()\n",
    "    consensus = summary_align.dumb_consensus()\n",
    "\n",
    "    # 打印每个残基的保守性得分\n",
    "    pos=1\n",
    "    num=1\n",
    "    for residue, score in zip(alignment[0], conservation_scores):\n",
    "        num+=1\n",
    "        print(pos,f\"Residue: {residue}, Conservation Score: {score}\")\n",
    "        if score!=\"X\" and score!=\"-\" :\n",
    "            #print(pos,f\"Residue: {residue}, Conservation Score: {score}\")\n",
    "            list_pos.append(pos)\n",
    "        pos+=1\n",
    "    \n",
    "    #for residue, score in zip(alignment[0], consensus):\n",
    "    #    print(residue, score)\n",
    "    print(num)\n",
    "    return list_pos"
   ]
  },
  {
   "cell_type": "code",
   "execution_count": null,
   "metadata": {},
   "outputs": [],
   "source": [
    "####表征位富集区域的超几何检验\n",
    "from scipy.stats import hypergeom\n",
    "from scipy.stats import fisher_exact"
   ]
  },
  {
   "cell_type": "code",
   "execution_count": 34,
   "metadata": {},
   "outputs": [
    {
     "name": "stdout",
     "output_type": "stream",
     "text": [
      "0.048473352706816304\n"
     ]
    }
   ],
   "source": [
    "total=395\n",
    "LKMHCpan=73\n",
    "# LKMHCpan Alpha1 sites\n",
    "overlap_Alpha1=23\n",
    "Alpha1_total  =92\n",
    "p_value = hypergeom.sf(overlap_Alpha1-1, total, Alpha1_total, LKMHCpan)\n",
    "print(p_value)"
   ]
  },
  {
   "cell_type": "code",
   "execution_count": null,
   "metadata": {},
   "outputs": [
    {
     "name": "stdout",
     "output_type": "stream",
     "text": [
      "右侧检验 p 值: 0.048473352706816304\n"
     ]
    }
   ],
   "source": [
    "#a1\n",
    "N = 395 #比对后全长,去-\n",
    "K = 92  #a1总长\n",
    "n = 73  #表征总长\n",
    "k = 23  #表征中a1长\n",
    "\n",
    "# 检验方向：是否显著富集（右侧检验）\n",
    "p_value = hypergeom.sf(k-1, N, K, n)\n",
    "\n",
    "print(f\"右侧检验 p 值:\",p_value)"
   ]
  },
  {
   "cell_type": "code",
   "execution_count": null,
   "metadata": {},
   "outputs": [
    {
     "name": "stdout",
     "output_type": "stream",
     "text": [
      "右侧检验 p 值: 0.976805863563074\n"
     ]
    }
   ],
   "source": [
    "#a2\n",
    "N = 395\n",
    "K = 97\n",
    "n = 73\n",
    "k = 11\n",
    "\n",
    "# 检验方向：是否显著富集（右侧检验）\n",
    "p_value = hypergeom.sf(k-1, N, K, n)\n",
    "print(f\"右侧检验 p 值:\",p_value)"
   ]
  },
  {
   "cell_type": "code",
   "execution_count": null,
   "metadata": {},
   "outputs": [
    {
     "name": "stdout",
     "output_type": "stream",
     "text": [
      "右侧检验 p 值: 0.8224795258843545\n"
     ]
    }
   ],
   "source": [
    "#a3\n",
    "N = 395\n",
    "K = 95\n",
    "n = 73\n",
    "k = 14\n",
    "\n",
    "# 检验方向：是否显著富集（右侧检验）\n",
    "p_value = hypergeom.sf(k-1, N, K, n)\n",
    "print(f\"右侧检验 p 值:\",p_value)"
   ]
  },
  {
   "cell_type": "code",
   "execution_count": 46,
   "metadata": {},
   "outputs": [
    {
     "name": "stdout",
     "output_type": "stream",
     "text": [
      "右侧检验 p 值: 0.0017452170859904848\n"
     ]
    }
   ],
   "source": [
    "#single peptide\n",
    "N = 395\n",
    "K = 9\n",
    "n = 73\n",
    "k = 6\n",
    "\n",
    "# 检验方向：是否显著富集（右侧检验）\n",
    "p_value = hypergeom.sf(k-1, N, K, n)\n",
    "print(f\"右侧检验 p 值:\",p_value)"
   ]
  },
  {
   "cell_type": "code",
   "execution_count": 47,
   "metadata": {},
   "outputs": [
    {
     "name": "stdout",
     "output_type": "stream",
     "text": [
      "右侧检验 p 值: 0.998336791945656\n"
     ]
    }
   ],
   "source": [
    "#保守残基\n",
    "N = 395\n",
    "K = 153\n",
    "n = 73\n",
    "k = 18\n",
    "\n",
    "# 检验方向：是否显著富集（右侧检验）\n",
    "p_value = hypergeom.sf(k-1, N, K, n)\n",
    "print(f\"右侧检验 p 值:\",p_value)"
   ]
  }
 ],
 "metadata": {
  "kernelspec": {
   "display_name": "Fairseq",
   "language": "python",
   "name": "python3"
  },
  "language_info": {
   "codemirror_mode": {
    "name": "ipython",
    "version": 3
   },
   "file_extension": ".py",
   "mimetype": "text/x-python",
   "name": "python",
   "nbconvert_exporter": "python",
   "pygments_lexer": "ipython3",
   "version": "3.9.13"
  }
 },
 "nbformat": 4,
 "nbformat_minor": 2
}
